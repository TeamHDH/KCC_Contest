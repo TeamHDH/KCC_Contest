{
 "cells": [
  {
   "cell_type": "code",
   "execution_count": 1,
   "id": "507045ba",
   "metadata": {},
   "outputs": [
    {
     "name": "stdout",
     "output_type": "stream",
     "text": [
      "   소외군라벨  소외이진라벨\n",
      "0      1       1\n",
      "1      1       1\n",
      "2      2       0\n",
      "3      2       0\n",
      "4      2       0\n"
     ]
    }
   ],
   "source": [
    "import pandas as pd\n",
    "\n",
    "# 1️⃣ 기존 라벨이 포함된 데이터 불러오기\n",
    "df = pd.read_csv(\"p24_final_labeled.csv\", encoding='utf-8-sig')\n",
    "df = df.dropna(subset=['소외군라벨'])\n",
    "\n",
    "# 2️⃣ 이진 라벨 생성 (소외군:1, 비소외:0)\n",
    "df['소외이진라벨'] = df['소외군라벨'].apply(lambda x: 1 if x == 1 else 0)\n",
    "\n",
    "# 3️⃣ 결과 확인\n",
    "print(df[['소외군라벨', '소외이진라벨']].head())\n",
    "\n",
    "# 4️⃣ 저장 (선택)\n",
    "df.to_csv(\"p24_final_labeled_binary.csv\", index=False, encoding='utf-8-sig')\n"
   ]
  }
 ],
 "metadata": {
  "kernelspec": {
   "display_name": "Python 3",
   "language": "python",
   "name": "python3"
  },
  "language_info": {
   "codemirror_mode": {
    "name": "ipython",
    "version": 3
   },
   "file_extension": ".py",
   "mimetype": "text/x-python",
   "name": "python",
   "nbconvert_exporter": "python",
   "pygments_lexer": "ipython3",
   "version": "3.11.9"
  }
 },
 "nbformat": 4,
 "nbformat_minor": 5
}

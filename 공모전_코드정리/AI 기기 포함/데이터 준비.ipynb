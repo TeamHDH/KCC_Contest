{
 "cells": [
  {
   "cell_type": "markdown",
   "id": "a5eac91a",
   "metadata": {},
   "source": [
    "# 데이터 준비\n"
   ]
  },
  {
   "cell_type": "code",
   "execution_count": 1,
   "id": "b9f53e8b",
   "metadata": {},
   "outputs": [],
   "source": [
    "# 라이브러리 호출\n",
    "import pandas as pd"
   ]
  },
  {
   "cell_type": "code",
   "execution_count": 2,
   "id": "0229b82c",
   "metadata": {},
   "outputs": [
    {
     "name": "stderr",
     "output_type": "stream",
     "text": [
      "C:\\Users\\Administrator\\AppData\\Local\\Temp\\ipykernel_157876\\1385228898.py:2: DtypeWarning: Columns (5,8,9,295,296,297,298,299,300,371,372,373,374) have mixed types. Specify dtype option on import or set low_memory=False.\n",
      "  df_raw = pd.read_csv(\"p24v31_KMP_csv.csv\", encoding='cp949')\n"
     ]
    }
   ],
   "source": [
    "# 원본 데이터 불러오기\n",
    "df_raw = pd.read_csv(\"p24v31_KMP_csv.csv\", encoding='cp949')\n",
    "df_raw = df_raw.replace(' ', pd.NA)"
   ]
  },
  {
   "cell_type": "markdown",
   "id": "7b0bcd02",
   "metadata": {},
   "source": [
    "### 전처리 과정\n",
    "##### 1. 사용할 데이터 추출"
   ]
  },
  {
   "cell_type": "code",
   "execution_count": 3,
   "id": "94c9b964",
   "metadata": {},
   "outputs": [
    {
     "name": "stdout",
     "output_type": "stream",
     "text": [
      "   p24gender  p24age  p24school  p24job1  p24income  p24d25070  p24n01038  \\\n",
      "0          2       6          5        2          1          5          2   \n",
      "1          2       3          5        1          5          5          2   \n",
      "2          1       3          5        1          5          5          2   \n",
      "3          1       6          5        1          5          5          2   \n",
      "4          1       4          5        1          5          5          3   \n",
      "\n",
      "   p24n01041  p24n01042  p24n01043  p24d27001  p24d27004  p24d26007  \\\n",
      "0          2          3          3       11.0        5.0        1.0   \n",
      "1          2          3          1       11.0        3.0        1.0   \n",
      "2          2          1          1        3.0        4.0        1.0   \n",
      "3          2          2          2       11.0        4.0        1.0   \n",
      "4          2          3          1       11.0        5.0        1.0   \n",
      "\n",
      "   p24d31001  p24d31002  \n",
      "0          2          2  \n",
      "1          2          2  \n",
      "2          3          2  \n",
      "3          3          2  \n",
      "4          3          2  \n"
     ]
    }
   ],
   "source": [
    "# 최종 사용할 변수 리스트\n",
    "selected_vars = [\n",
    "    'p24gender', 'p24age', 'p24school', 'p24job1', 'p24income',\n",
    "    'p24d25070',\n",
    "    'p24n01038', 'p24n01041', 'p24n01042', 'p24n01043',\n",
    "    'p24d27001', 'p24d27004',\n",
    "    'p24d26007',\n",
    "    'p24d31001', 'p24d31002'\n",
    "]\n",
    "\n",
    "# 선택변수 추출 데이터\n",
    "df_selected = df_raw[selected_vars].copy()\n",
    "\n",
    "# 데이터 타입 변환\n",
    "for col in ['p24d27001', 'p24d27004', 'p24d26007']:\n",
    "    df_selected[col] = pd.to_numeric(df_selected[col], errors='coerce')\n",
    "\n",
    "# 결과 확인\n",
    "print(df_selected.head())"
   ]
  },
  {
   "cell_type": "markdown",
   "id": "041ae6a4",
   "metadata": {},
   "source": [
    "##### 2. 추출한 변수명 한글 매핑"
   ]
  },
  {
   "cell_type": "code",
   "execution_count": 4,
   "id": "d699b5e8",
   "metadata": {},
   "outputs": [
    {
     "name": "stdout",
     "output_type": "stream",
     "text": [
      "   성별  연령  학력  직업  소득  검색능력  정보판별1(사실확인)  정보판별2(근거확인)  정보판별3(상업적의도확인)  \\\n",
      "0   2   6   5   2   1     5            2            2               3   \n",
      "1   2   3   5   1   5     5            2            2               3   \n",
      "2   1   3   5   1   5     5            2            2               1   \n",
      "3   1   6   5   1   5     5            2            2               2   \n",
      "4   1   4   5   1   5     5            3            2               3   \n",
      "\n",
      "   정보판별4(정치적의도확인)  SNS피드확인  SNS좋아요댓글  OTT이용빈도  AI인지수준  AI이용여부  \n",
      "0               3     11.0       5.0      1.0       2       2  \n",
      "1               1     11.0       3.0      1.0       2       2  \n",
      "2               1      3.0       4.0      1.0       3       2  \n",
      "3               2     11.0       4.0      1.0       3       2  \n",
      "4               1     11.0       5.0      1.0       3       2  \n"
     ]
    }
   ],
   "source": [
    "# 변수 추출 완료된 데이터 불러오기\n",
    "df = df_selected.copy()\n",
    "\n",
    "# 변수명 한글 매핑 딕셔너리 정의\n",
    "column_mapping = {\n",
    "    'p24gender': '성별',\n",
    "    'p24age': '연령',\n",
    "    'p24school': '학력',\n",
    "    'p24job1': '직업',\n",
    "    'p24income': '소득',\n",
    "    'p24d25070': '검색능력',\n",
    "    'p24n01038': '정보판별1(사실확인)',\n",
    "    'p24n01041': '정보판별2(근거확인)',\n",
    "    'p24n01042': '정보판별3(상업적의도확인)',\n",
    "    'p24n01043': '정보판별4(정치적의도확인)',\n",
    "    'p24d27001': 'SNS피드확인',\n",
    "    'p24d27004': 'SNS좋아요댓글',\n",
    "    'p24d26007': 'OTT이용빈도',\n",
    "    'p24d31001': 'AI인지수준',\n",
    "    'p24d31002': 'AI이용여부'\n",
    "}\n",
    "\n",
    "# 변수명 변경 적용\n",
    "df.rename(columns=column_mapping, inplace=True)\n",
    "\n",
    "# 결과 확인\n",
    "print(df.head())\n",
    "\n",
    "# 데이터 저장\n",
    "df_rename_kor = df.copy()"
   ]
  },
  {
   "cell_type": "markdown",
   "id": "fac94d33",
   "metadata": {},
   "source": [
    "##### 3. 변수 데이터 매핑"
   ]
  },
  {
   "cell_type": "code",
   "execution_count": 5,
   "id": "508a3737",
   "metadata": {},
   "outputs": [
    {
     "name": "stdout",
     "output_type": "stream",
     "text": [
      "   성별  연령  학력  직업  소득  검색능력  정보판별1(사실확인)  정보판별2(근거확인)  정보판별3(상업적의도확인)  \\\n",
      "0   1   6   5   0   1     5            2            2               3   \n",
      "1   1   3   5   1   5     5            2            2               3   \n",
      "2   0   3   5   1   5     5            2            2               1   \n",
      "3   0   6   5   1   5     5            2            2               2   \n",
      "4   0   4   5   1   5     5            3            2               3   \n",
      "\n",
      "   정보판별4(정치적의도확인)  SNS피드확인  SNS좋아요댓글  OTT이용빈도  AI인지수준  AI이용여부  소득그룹  \n",
      "0               3      9.0       6.0      8.0       2       0     0  \n",
      "1               1      9.0       8.0      8.0       2       0     1  \n",
      "2               1      6.0       7.0      8.0       3       0     1  \n",
      "3               2      9.0       7.0      8.0       3       0     1  \n",
      "4               1      9.0       6.0      8.0       3       0     1  \n"
     ]
    }
   ],
   "source": [
    "# 데이터 불러오기\n",
    "df = df_rename_kor.copy()\n",
    "\n",
    "### 이진형 매핑들 (성별, 직업, 스마트폰보유, AI이용여부)\n",
    "\n",
    "# 성별 (남:0, 여:1)\n",
    "df['성별'] = df['성별'].map({1: 0, 2: 1})\n",
    "\n",
    "# 직업 (없음:0, 있음:1)\n",
    "df['직업'] = df['직업'].map({1: 1, 2: 0})\n",
    "\n",
    "# AI 이용여부 (없음:0, 있음:1)\n",
    "df['AI이용여부'] = df['AI이용여부'].map({1: 1, 2: 0})\n",
    "\n",
    "### 소득 그룹화 (저:0, 중:1, 고:2)\n",
    "df['소득그룹'] = df['소득'].apply(lambda x: 0 if x <= 3 else (1 if x <= 6 else 2))\n",
    "\n",
    "### SNS피드확인 매핑 (11단계 → )\n",
    "sns_feed_mapping = {\n",
    "    9: 11,  # 하루 5회 이상\n",
    "    10: 10, # 하루 3~4회\n",
    "    11: 9, # 하루 1~2회\n",
    "    1: 8,   # 하루에도 여러 번\n",
    "    2: 7,\n",
    "    3: 6,\n",
    "    4: 5,\n",
    "    5: 4,\n",
    "    6: 3,\n",
    "    7: 2,\n",
    "    8: 1\n",
    "}\n",
    "df['SNS피드확인'] = df['SNS피드확인'].map(sns_feed_mapping)\n",
    "\n",
    "### SNS좋아요댓글 매핑 (12단계 → 적극성 척도)\n",
    "sns_mapping = {\n",
    "    1: 10, 2: 9, 3: 8, 4: 7,\n",
    "    5: 6, 6: 5, 7: 4, 8: 3,\n",
    "    9: 2, 10: 12, 11: 11, 12: 10\n",
    "}\n",
    "df['SNS좋아요댓글'] = df['SNS좋아요댓글'].map(sns_mapping)\n",
    "\n",
    "### OTT이용빈도 매핑 (8단계 → 8점 척도)\n",
    "ott_mapping = {\n",
    "    1: 8, 2: 7, 3: 6, 4: 5,\n",
    "    5: 4, 6: 3, 7: 2, 8: 1\n",
    "}\n",
    "df['OTT이용빈도'] = df['OTT이용빈도'].map(ott_mapping)\n",
    "\n",
    "# SNS 비사용자는 활동이 없다고 간주하여 0으로 처리\n",
    "df['SNS피드확인'] = df['SNS피드확인'].fillna(0)\n",
    "df['SNS좋아요댓글'] = df['SNS좋아요댓글'].fillna(0)\n",
    "df['OTT이용빈도'] = df['OTT이용빈도'].fillna(0)\n",
    "\n",
    "# 리커트형 (검색능력, 정보판별1~4, AI인지수준)은 그대로 사용 (1~5 또는 1~4 점수)\n",
    "\n",
    "# 결과 확인\n",
    "print(df.head())\n",
    "\n",
    "# 데이터 저장\n",
    "df_mapped = df.copy()"
   ]
  },
  {
   "cell_type": "markdown",
   "id": "380d62dd",
   "metadata": {},
   "source": [
    "##### 4. 소외군 비소외군 라벨 생성"
   ]
  },
  {
   "cell_type": "code",
   "execution_count": 6,
   "id": "fbd1d794",
   "metadata": {},
   "outputs": [
    {
     "name": "stdout",
     "output_type": "stream",
     "text": [
      "   AI인지수준  AI이용여부  소외군라벨\n",
      "0       2       0      1\n",
      "1       2       0      1\n",
      "2       3       0      2\n",
      "3       3       0      2\n",
      "4       3       0      2\n"
     ]
    }
   ],
   "source": [
    "# 전처리 완료된 데이터 불러오기 (최종 매핑본 사용)\n",
    "df = df_mapped.copy()\n",
    "\n",
    "# 소외군 라벨 생성 함수 정의\n",
    "def assign_label(row):\n",
    "    if row['AI이용여부'] == 1:  # 이용 있음\n",
    "        return 0    # 정상활용군\n",
    "    elif row['AI이용여부'] == 0:    # 이용 안함\n",
    "        if row['AI인지수준'] in [1, 2]:\n",
    "            return 1    # 소외군\n",
    "        else:\n",
    "            return 2    # 보조군\n",
    "    else:\n",
    "        return pd.NA    # 예외처리\n",
    "\n",
    "# 소외군 라벨 생성\n",
    "df['소외군라벨'] = df.apply(assign_label, axis=1)\n",
    "\n",
    "# 결과 확인\n",
    "print(df[['AI인지수준', 'AI이용여부', '소외군라벨']].head())\n",
    "\n",
    "# 데이터 저장\n",
    "df_labeled = df.copy()"
   ]
  },
  {
   "cell_type": "markdown",
   "id": "2defe33e",
   "metadata": {},
   "source": [
    "##### 5. 기존 소외군 라벨을 이진화"
   ]
  },
  {
   "cell_type": "code",
   "execution_count": 7,
   "id": "7032137e",
   "metadata": {},
   "outputs": [
    {
     "name": "stdout",
     "output_type": "stream",
     "text": [
      "   소외군라벨  소외이진라벨\n",
      "0      1       1\n",
      "1      1       1\n",
      "2      2       0\n",
      "3      2       0\n",
      "4      2       0\n"
     ]
    }
   ],
   "source": [
    "# 기존 라벨이 포함된 데이터 불러오기\n",
    "df = df_labeled.copy()\n",
    "\n",
    "# 이진 라벨 생성 (비소외군:0, 소외군:1)\n",
    "df['소외이진라벨'] = df['소외군라벨'].apply(lambda x: 1 if x == 1 else 0)\n",
    "\n",
    "# 결과 확인\n",
    "print(df[['소외군라벨', '소외이진라벨']].head())\n",
    "\n",
    "# 데이터 저장\n",
    "df_binary = df.copy()"
   ]
  },
  {
   "cell_type": "markdown",
   "id": "ff4b3dc1",
   "metadata": {},
   "source": [
    "### AI기기 보유율 매핑"
   ]
  },
  {
   "cell_type": "code",
   "execution_count": 8,
   "id": "5d0eafff",
   "metadata": {},
   "outputs": [
    {
     "name": "stdout",
     "output_type": "stream",
     "text": [
      "   AI기기보유율_성별  AI기기보유율_연령  AI기기보유율_소득  AI기기보유율_학력\n",
      "0         7.0        15.8        5.37        19.7\n",
      "1         7.0        12.9       17.03        19.7\n",
      "2        15.3        12.9       17.03        19.7\n",
      "3        15.3        15.8       17.03        19.7\n",
      "4        15.3        17.9       17.03        19.7\n"
     ]
    }
   ],
   "source": [
    "# 기존 전처리 완료 데이터 불러오기 (이진라벨 포함 데이터 기준)\n",
    "df = df_binary.copy()\n",
    "df = df.dropna(subset=['소외이진라벨'])\n",
    "\n",
    "### AI기기 보유율 매핑\n",
    "\n",
    "# (1) 성별\n",
    "gender_map = {0: 15.3, 1: 7.0}\n",
    "df['AI기기보유율_성별'] = df['성별'].map(gender_map)\n",
    "\n",
    "# (2) 연령\n",
    "age_map = {\n",
    "    1: None,\n",
    "    2: 12.9,\n",
    "    3: 12.9,\n",
    "    4: 17.9,\n",
    "    5: 20.0,\n",
    "    6: 15.8,\n",
    "    7: 11.4,\n",
    "    8: 3.0\n",
    "}\n",
    "df['AI기기보유율_연령'] = df['연령'].map(age_map)\n",
    "\n",
    "# (3) 소득\n",
    "income_map = {\n",
    "    0: 5.37,\n",
    "    1: 17.03,\n",
    "    2: 23.1\n",
    "}\n",
    "df['AI기기보유율_소득'] = df['소득그룹'].map(income_map)\n",
    "\n",
    "# (4) 학력\n",
    "def map_edu(x):\n",
    "    if x <= 4:\n",
    "        return 1\n",
    "    elif x == 5:\n",
    "        return 2\n",
    "    else:\n",
    "        return 3\n",
    "df['학력그룹'] = df['학력'].apply(map_edu)\n",
    "\n",
    "edu_map = {\n",
    "    1: 9.0,\n",
    "    2: 19.7,\n",
    "    3: 0.0\n",
    "}\n",
    "df['AI기기보유율_학력'] = df['학력그룹'].map(edu_map)\n",
    "\n",
    "# 결과 확인\n",
    "print(df[['AI기기보유율_성별', 'AI기기보유율_연령',\n",
    "          'AI기기보유율_소득', 'AI기기보유율_학력']].head())\n",
    "\n",
    "# 데이터 저장\n",
    "df_binary_AI = df.copy()"
   ]
  },
  {
   "cell_type": "markdown",
   "id": "65bad37a",
   "metadata": {},
   "source": [
    "### 파생변수 추가"
   ]
  },
  {
   "cell_type": "code",
   "execution_count": 9,
   "id": "5bc7f72a",
   "metadata": {},
   "outputs": [
    {
     "name": "stdout",
     "output_type": "stream",
     "text": [
      "       Active_Score  Info_Literacy_Index    AI_Device\n",
      "count   8693.000000          8693.000000  8693.000000\n",
      "mean       0.428644             0.489719     0.548375\n",
      "std        0.257701             0.260301     0.238925\n",
      "min        0.000000             0.000000     0.000000\n",
      "25%        0.257143             0.312500     0.347521\n",
      "50%        0.428571             0.500000     0.585047\n",
      "75%        0.628571             0.687500     0.737446\n",
      "max        1.000000             1.000000     1.000000\n"
     ]
    }
   ],
   "source": [
    "# 기존 전처리 완료 데이터 불러오기\n",
    "df = df_binary_AI.copy()\n",
    "\n",
    "### 파생변수 생성\n",
    "\n",
    "# 디지털 적극성 지수 (Active Score)\n",
    "df['Active_Score_raw'] = (\n",
    "    df['SNS피드확인'] + \n",
    "    df['SNS좋아요댓글'] + \n",
    "    df['OTT이용빈도'] +\n",
    "    df['검색능력'] \n",
    ")\n",
    "\n",
    "# 정보판별 종합지수 (Information Literacy Index)\n",
    "df['Info_Literacy_Index_raw'] = (\n",
    "    df['정보판별1(사실확인)'] + \n",
    "    df['정보판별2(근거확인)'] + \n",
    "    df['정보판별3(상업적의도확인)'] + \n",
    "    df['정보판별4(정치적의도확인)']\n",
    ")\n",
    "\n",
    "# AI기기보유율 통합 파생변수 생성 (예: 평균으로 계산)\n",
    "df['AI_Device_raw'] = df[[\n",
    "    'AI기기보유율_성별',\n",
    "    'AI기기보유율_연령',\n",
    "    'AI기기보유율_소득',\n",
    "    'AI기기보유율_학력'\n",
    "]].mean(axis=1)\n",
    "\n",
    "# Min-Max 정규화 함수\n",
    "def min_max_norm(series):\n",
    "    return (series - series.min()) / (series.max() - series.min())\n",
    "\n",
    "# 정규화 적용\n",
    "df['Active_Score'] = min_max_norm(df['Active_Score_raw'])\n",
    "df['Info_Literacy_Index'] = min_max_norm(df['Info_Literacy_Index_raw'])\n",
    "df['AI_Device'] = min_max_norm(df['AI_Device_raw'])\n",
    "\n",
    "# 중간 결과 확인\n",
    "print(df[['Active_Score', 'Info_Literacy_Index', 'AI_Device']].describe())\n",
    "\n",
    "# 정규화 이전 raw 컬럼은 제거\n",
    "df.drop(columns=['Active_Score_raw', 'Info_Literacy_Index_raw', 'AI_Device_raw'], inplace=True)\n",
    "\n",
    "df_features = df.copy()\n",
    "\n",
    "# 저장\n",
    "df.to_csv(\"p24_final_data.csv\", index=False, encoding='utf-8-sig')"
   ]
  }
 ],
 "metadata": {
  "kernelspec": {
   "display_name": "Python 3",
   "language": "python",
   "name": "python3"
  },
  "language_info": {
   "codemirror_mode": {
    "name": "ipython",
    "version": 3
   },
   "file_extension": ".py",
   "mimetype": "text/x-python",
   "name": "python",
   "nbconvert_exporter": "python",
   "pygments_lexer": "ipython3",
   "version": "3.12.10"
  }
 },
 "nbformat": 4,
 "nbformat_minor": 5
}

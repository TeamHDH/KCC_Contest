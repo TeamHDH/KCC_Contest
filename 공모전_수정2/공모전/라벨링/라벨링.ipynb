{
 "cells": [
  {
   "cell_type": "code",
   "execution_count": 1,
   "id": "1560a523",
   "metadata": {},
   "outputs": [
    {
     "name": "stdout",
     "output_type": "stream",
     "text": [
      "   AI인지수준  AI이용여부  소외군라벨\n",
      "0       2       0      1\n",
      "1       2       0      1\n",
      "2       3       0      2\n",
      "3       3       0      2\n",
      "4       3       0      2\n"
     ]
    }
   ],
   "source": [
    "import pandas as pd\n",
    "\n",
    "# 1️⃣ 전처리 완료된 데이터 불러오기 (최종 매핑본 사용)\n",
    "df = pd.read_csv(\"p24_fully_mapped.csv\", encoding='utf-8-sig')\n",
    "df = df.replace(' ', pd.NA)\n",
    "\n",
    "# 2️⃣ 소외군 라벨 생성 함수 정의\n",
    "def assign_label(row):\n",
    "    if row['AI이용여부'] == 1:  # 이용 있음\n",
    "        return 0  # 정상활용군\n",
    "    elif row['AI이용여부'] == 0:  # 이용 안함\n",
    "        if row['AI인지수준'] in [1, 2]:\n",
    "            return 1  # 소외군\n",
    "        else:\n",
    "            return 2  # 보조군\n",
    "    else:\n",
    "        return pd.NA  # 예외처리\n",
    "\n",
    "\n",
    "# 3️⃣ 소외군 라벨 생성\n",
    "df['소외군라벨'] = df.apply(assign_label, axis=1)\n",
    "\n",
    "# 4️⃣ 결과 확인\n",
    "print(df[['AI인지수준', 'AI이용여부', '소외군라벨']].head())\n",
    "\n",
    "# 5️⃣ 최종 라벨 데이터 저장\n",
    "df.to_csv(\"p24_final_labeled.csv\", index=False, encoding='utf-8-sig')\n"
   ]
  }
 ],
 "metadata": {
  "kernelspec": {
   "display_name": "Python 3",
   "language": "python",
   "name": "python3"
  },
  "language_info": {
   "codemirror_mode": {
    "name": "ipython",
    "version": 3
   },
   "file_extension": ".py",
   "mimetype": "text/x-python",
   "name": "python",
   "nbconvert_exporter": "python",
   "pygments_lexer": "ipython3",
   "version": "3.11.9"
  }
 },
 "nbformat": 4,
 "nbformat_minor": 5
}
